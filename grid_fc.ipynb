{
 "cells": [
  {
   "cell_type": "code",
   "execution_count": null,
   "id": "5833da66",
   "metadata": {},
   "outputs": [],
   "source": [
    "# Order of creation operators acting on vaccum state matters (set a format/rule)\n",
    "# Create dictionary for string of numbers containing all basis states\n",
    "# Hamiltonian will have size dim(Dictionary)**2\n",
    "# N_particles, total Energy, lepton flavor (if vacuum mixing is off), and 3-momentum are conserved"
   ]
  },
  {
   "cell_type": "code",
   "execution_count": null,
   "id": "fd9717a8",
   "metadata": {},
   "outputs": [],
   "source": [
    "import numpy as np\n",
    "from itertools import combinations\n",
    "from math import comb"
   ]
  },
  {
   "cell_type": "code",
   "execution_count": null,
   "id": "34228ef9",
   "metadata": {},
   "outputs": [],
   "source": [
    "filename = 'kec_11'\n",
    "pmax = 11"
   ]
  },
  {
   "cell_type": "code",
   "execution_count": null,
   "id": "193f685f",
   "metadata": {},
   "outputs": [],
   "source": [
    "dp = 1.0\n",
    "pmin = -pmax\n",
    "np1 = round((pmax-pmin)/dp) + 1\n",
    "np1 #max number of momentum modes in 1-dimension"
   ]
  },
  {
   "cell_type": "code",
   "execution_count": null,
   "id": "a7a5612a",
   "metadata": {},
   "outputs": [],
   "source": [
    "ps_grid = np.zeros((np1**2,3))\n",
    "pxs, pys = np.meshgrid(np.linspace(pmin,pmax,np1), np.linspace(pmin,pmax,np1))\n",
    "ps_grid[:,0] = pxs.reshape(np1**2)\n",
    "ps_grid[:,1] = pys.reshape(np1**2)\n",
    "ps_grid[:,2] = np.zeros(np1**2)\n",
    "ps_grid #grid of all momentum modes within range of [pmin, pmax]"
   ]
  },
  {
   "cell_type": "code",
   "execution_count": null,
   "id": "c1791c3b",
   "metadata": {},
   "outputs": [],
   "source": [
    "kes_grid = np.zeros(np1**2)\n",
    "kes_grid = np.sqrt(ps_grid[:,0]**2+ps_grid[:,1]**2+ps_grid[:,2]**2)\n",
    "kes_grid # grid of all potential energies (associated with each momentum mode)"
   ]
  },
  {
   "cell_type": "code",
   "execution_count": null,
   "id": "440bb86e",
   "metadata": {},
   "outputs": [],
   "source": [
    "# ps = []\n",
    "# kes = []\n",
    "\n",
    "# # Impose ke < pmax\n",
    "# for i in range(len(kes_grid)):\n",
    "#     if kes_grid[i] < pmax+1e-5 and kes_grid[i] > 0 and ps_grid[i,0] >  0: #if all kin. energies are nonzero, within our circle defined by \n",
    "#         ps.append(ps_grid[i])                                             #pmax and x coordinate of momentum is positive (for semicircle)\n",
    "#         kes.append(kes_grid[i])\n",
    "\n",
    "# np2 = len(kes) #number of momentum modes in 2-dimensions\n",
    "# ps = np.array(ps)\n",
    "# kes = np.array(kes)\n",
    "\n",
    "# ps, kes #all momentum modes and corresponding KEs within range\n",
    "\n",
    "\n",
    "ps = []\n",
    "kes = []\n",
    "ps_str = []\n",
    "\n",
    "# Impose ke < pmax\n",
    "for i in range(len(kes_grid)):\n",
    "    if kes_grid[i] < pmax+1e-5 and kes_grid[i] > 0: #if all kin. energies are nonzero and within our circle defined by pmax \n",
    "        ps.append(ps_grid[i])  \n",
    "        ps_str.append(str(ps_grid[i]))                                           \n",
    "        kes.append(kes_grid[i])\n",
    "\n",
    "np2 = len(kes) #number of momentum modes in 2-dimensions\n",
    "ps = np.array(ps)\n",
    "kes = np.array(kes)\n",
    "\n",
    "ps, kes #all momentum modes and corresponding KEs within range"
   ]
  },
  {
   "cell_type": "code",
   "execution_count": null,
   "id": "8024eb04",
   "metadata": {},
   "outputs": [],
   "source": [
    "print(f'Number of momentum modes: {np2}')\n",
    "print('Momentum modes:')\n",
    "for i in range(np2):\n",
    "    print(i, ps[i,:])"
   ]
  },
  {
   "cell_type": "code",
   "execution_count": null,
   "id": "17012fc0",
   "metadata": {},
   "outputs": [],
   "source": [
    "# Input is 3-dim momentum, returns |p|, theta and phi (0-2pi)\n",
    "def p_spherical(p):\n",
    "    absp = np.sqrt(np.sum(p*p))\n",
    "    theta = np.arctan2(np.sqrt(p[0]**2+p[1]**2), p[2])\n",
    "    phi = np.arctan2(p[1],p[0])\n",
    "    return absp, theta, phi\n",
    "\n",
    "# g factor for H_vv\n",
    "def g_factor(p1, p2, q1, q2):\n",
    "    absp1, tp1, pp1 = p_spherical(p1)\n",
    "    absp2, tp2, pp2 = p_spherical(p2)\n",
    "    absq1, tq1, pq1 = p_spherical(q1)\n",
    "    absq2, tq2, pq2 = p_spherical(q2)\n",
    "    fac1 = np.exp(-1j*pq1)*np.sin(tq1/2.)*np.cos(tq2/2.) - np.exp(-1j*pq2)*np.cos(tq1/2.)*np.sin(tq2/2.)\n",
    "    fac2 = np.exp(1j*pp1)*np.sin(tp1/2.)*np.cos(tp2/2.) - np.exp(1j*pp2)*np.cos(tp1/2.)*np.sin(tp2/2.)\n",
    "    return 2 * fac1 * fac2"
   ]
  },
  {
   "cell_type": "code",
   "execution_count": null,
   "id": "e6f85822",
   "metadata": {},
   "outputs": [],
   "source": [
    "# kec_nt = [] #all possible states with KE conserved\n",
    "\n",
    "# for i1 in range(np2):\n",
    "#     p1 = ps[i1,:]\n",
    "#     for i2 in range(i1,np2):\n",
    "#         p2 = ps[i2,:]\n",
    "#         for i3 in range(np2):\n",
    "#             p3 = ps[i3,:]\n",
    "#             for i4 in range(i3,np2):\n",
    "#                 p4 = ps[i4,:]\n",
    "#                 pdiff = p1+p2-p3-p4\n",
    "#                 if np.sum(np.abs(pdiff)) < 1e-7:\n",
    "#                     k1 = np.sqrt(np.dot(p1,p1))\n",
    "#                     k2 = np.sqrt(np.dot(p2,p2))\n",
    "#                     k3 = np.sqrt(np.dot(p3,p3))\n",
    "#                     k4 = np.sqrt(np.dot(p4,p4))\n",
    "#                     gf = g_factor(p1,p2,p3,p4)\n",
    "#                     if np.abs(k1+k2-k3-k4) < 1e-7 and np.abs(gf) > 1e-7:\n",
    "#                         if i1!=i3:\n",
    "#                             kec_nt.append([i1,i2,i3,i4])\n",
    "\n",
    "# kec_nt = np.array(kec_nt) \n",
    "# Nkec = len(kec_nt)      #All sets of conserved KE\n",
    "\n",
    "# Onum, Olist = Nkec, kec_nt"
   ]
  },
  {
   "cell_type": "code",
   "execution_count": null,
   "id": "da2de132",
   "metadata": {},
   "outputs": [],
   "source": [
    "kec_nt = [] #all possible states with KE conserved\n",
    "\n",
    "for i1 in range(np2):\n",
    "    p1 = ps[i1,:]\n",
    "    for i2 in range(i1,np2):\n",
    "        p2 = ps[i2,:]\n",
    "        for i3 in range(np2):\n",
    "            p3 = ps[i3,:]\n",
    "            p4 =  p1+p2-p3\n",
    "            p4_mag = np.linalg.norm(p4)\n",
    "            if p4_mag <= pmax and p4_mag != 0:\n",
    "                i4 = ps_str.index(str(p4))\n",
    "                if i1!=i3 and i4>i3:\n",
    "                    k1 = np.sqrt(np.sum(p1*p1))\n",
    "                    k2 = np.sqrt(np.sum(p2*p2))\n",
    "                    k3 = np.sqrt(np.sum(p3*p3))\n",
    "                    k4 = np.sqrt(np.sum(p4*p4))\n",
    "                    gfactor = g_factor(p1,p2,p3,p4)\n",
    "                    if np.abs(k1+k2-k3-k4) < 1e-7 and np.abs(gfactor) > 1e-7: #ensuring only appending terms where g>0\n",
    "                        kec_nt.append([i1,i2,i3,i4])\n",
    "\n",
    "kec_nt = np.array(kec_nt) \n",
    "Nkec = len(kec_nt)      #All sets of conserved KE\n",
    "\n",
    "Nkec, kec_nt"
   ]
  },
  {
   "cell_type": "code",
   "execution_count": null,
   "id": "22bf2f9a",
   "metadata": {},
   "outputs": [],
   "source": [
    "# reference state\n",
    "#ninit = np.sort(np.array([20, 21, 22, 23, 25]))\n",
    "# ninit = np.sort(np.array([35, 36, 37, 38, 39, 42]))\n",
    "# ninit = np.sort(np.array([50, 51, 52, 53, 54, 55, 59]))\n",
    "# ninit = np.sort(np.array([67, 68, 69, 70, 71, 72, 73, 77]))\n",
    "# ninit = np.sort(np.array([90, 91, 92, 93, 94, 95, 96, 97, 102]))\n",
    "ninit = np.sort(np.array([117, 118, 119, 120, 121, 122, 123, 124, 125, 130]))\n",
    "# ninit = np.sort(np.array([11, 12, 13, 15]))\n",
    "# ninit = np.sort(np.array([20, 21, 22, 23, 26]))\n",
    "# ninit = np.sort(np.array([4, 5, 7]))\n",
    "\n",
    "\n",
    "\n",
    "Ne = 1                            #number of electron neutrinos in initial state\n",
    "\n",
    "Nn = len(ninit)                   #number of neutrinos\n",
    "Nm = Nn - Ne                      #number of muon neutrinos\n",
    "\n",
    "pinit = np.sum(ps[ninit], axis=0) #total momentum of initial state\n",
    "keinit = np.sum(kes[ninit])       #KE of initial state\n",
    "print(f'Reference state is {ninit}')\n",
    "print(f'Reference state total momentum: {pinit}')\n",
    "print(f'Reference state kinetic energy: {keinit}')"
   ]
  },
  {
   "cell_type": "code",
   "execution_count": null,
   "id": "b7b2ff3c",
   "metadata": {},
   "outputs": [],
   "source": [
    "# Write momentum modes and other initial settings to 'filename'_p.dat file\n",
    "g =  open(filename+'_p.dat', 'w')\n",
    "g.write(f'# dp = {dp}' + '\\n')\n",
    "g.write(f'# pmax = {pmax}' + '\\n')\n",
    "g.write(f'# Initial state is {ninit}' + '\\n')\n",
    "g.write(f'# Initial number of electron neutrinos: {Ne}' + '\\n')\n",
    "g.write(f'# Initial total momentum: {pinit}' + '\\n')\n",
    "g.write(f'# Initial kinetic energy: {keinit}' + '\\n')\n",
    "g.write(f'# Number of momentum modes: {np2}' + '\\n')\n",
    "# Write pairs of momentum modes which conserve P and KE\n",
    "for i in range(len(kec_nt)):\n",
    "    gfac = g_factor(ps[kec_nt[i,0],:],ps[kec_nt[i,1],:],ps[kec_nt[i,2],:],ps[kec_nt[i,3],:])\n",
    "    g.write(f'# {kec_nt[i,0]} {kec_nt[i,1]} --- {kec_nt[i,2]} {kec_nt[i,3]}: {np.abs(gfac)}' + '\\n')\n",
    "# Write momentum modes\n",
    "for i in range(len(ps)):\n",
    "    g.write(f'{ps[i,0]} {ps[i,1]} {ps[i,2]}' + '\\n')"
   ]
  },
  {
   "cell_type": "code",
   "execution_count": null,
   "id": "179ac28a",
   "metadata": {},
   "outputs": [],
   "source": [
    "binom = np.array(list(combinations([i for i in range(Nn)],2)))\n",
    "Nbinom = len(binom)\n",
    "binom"
   ]
  },
  {
   "cell_type": "code",
   "execution_count": null,
   "id": "f8573587",
   "metadata": {},
   "outputs": [],
   "source": [
    "# Check if the same momentum mode is used only up to twice\n",
    "def check(state):\n",
    "    ans = True\n",
    "    for i in range(len(state)-2):\n",
    "        if np.var(state[i:i+3]) < 1e-7:\n",
    "            ans = False\n",
    "    return ans"
   ]
  },
  {
   "cell_type": "code",
   "execution_count": null,
   "id": "679ccf5a",
   "metadata": {},
   "outputs": [],
   "source": [
    "# For a given pair of Nn momentum modes, return the pairs that Hvv can take to\n",
    "def apply(state):\n",
    "    newstate = []\n",
    "    for i in range(Nbinom):\n",
    "        k = np.array([state[binom[i,0]], state[binom[i,1]]])\n",
    "        for j in range(Nkec):\n",
    "            if np.sum(np.abs(k-kec_nt[j,:2]))==0:\n",
    "                state_i = state.copy()\n",
    "                state_i[binom[i,0]] = kec_nt[j,2]\n",
    "                state_i[binom[i,1]] = kec_nt[j,3]\n",
    "                state_i = np.sort(state_i)\n",
    "                if check(state_i):\n",
    "                    newstate.append(state_i)\n",
    "    return np.array(newstate)"
   ]
  },
  {
   "cell_type": "code",
   "execution_count": null,
   "id": "5f1aecf8",
   "metadata": {},
   "outputs": [],
   "source": [
    "nnewstate = 10  # > 1 to enter the while loop\n",
    "p_states = np.array([ninit])\n",
    "newstate1 = np.array([np.zeros(Nn), ninit])\n",
    "trial = 0\n",
    "while nnewstate > 1:\n",
    "    print(f'---------------- H^{trial+1} ----------------')\n",
    "    newstate2 = np.zeros((1,Nn))\n",
    "    #newstate3 = np.zeros((1,Nn))\n",
    "    for i in range(1,len(newstate1)):\n",
    "        newi = apply(newstate1[i])\n",
    "        if len(newi) > 0:\n",
    "            newstate2 = np.append(newstate2, newi, axis=0)\n",
    "       \n",
    "    newstate1 = np.array([np.zeros(Nn)])\n",
    "    for j in range(1,len(newstate2)):\n",
    "        dist = np.sum(np.abs(p_states - newstate2[j]), axis=1)\n",
    "        if np.min(dist) > 1e-7:\n",
    "            p_states = np.append(p_states, [newstate2[j].astype(int)], axis=0)\n",
    "            newstate1 = np.append(newstate1, [newstate2[j]], axis=0)\n",
    "    nnewstate = len(newstate1)\n",
    "    print(f'Number of new states(mod flavor choice) at this round: {nnewstate-1}')\n",
    "    print(f'Number of states(mod flavor choice) visited so far: {len(p_states)}')\n",
    "        \n",
    "    trial += 1\n",
    "\n",
    "print('#########################')\n",
    "print('Finished listing all basis states (mod flavor choice) connected to the reference state')"
   ]
  },
  {
   "cell_type": "code",
   "execution_count": null,
   "id": "23f6c834",
   "metadata": {},
   "outputs": [],
   "source": [
    "n_states = 0\n",
    "\n",
    "# Write all basis states visited to 'filename'_s.dat file.\n",
    "with open(filename + '_s.dat', 'w') as f:    \n",
    "    for i in range(len(p_states)):\n",
    "        totp = np.sum(ps[p_states[i]], axis=0)\n",
    "        totke = np.sum(kes[p_states[i]])\n",
    "        Nrp = Nn-len(set(p_states[i]))\n",
    "        if Nn-2*Nrp >= 0 and Ne-Nrp >= 0:\n",
    "            nstate = comb(Nn-2*Nrp, Ne-Nrp)\n",
    "            #nstate = 2**Nn/4**(Nn-len(set(p_states[i]))) #NON-FLAVOR DEPENDENT\n",
    "            strs = ' '.join([str(x) for x in p_states[i]]) + '\\n'\n",
    "            f.write(strs)\n",
    "            n_states += nstate\n",
    "            if np.sum(np.abs(totp-pinit)) > 1e-7 or np.abs(totke-keinit) > 1e-7:\n",
    "                print('Total momentum or kinetic energy is not conserved!')\n",
    "\n",
    "\n",
    "print(f'Number of momentum modes pair with conserved P and E is {len(p_states)}')\n",
    "print(f'Number of states with conserved P, E, and flavor content is {n_states:.0f}')\n",
    "bins_visited = np.sort(np.array(list(set(p_states.flatten()))))\n",
    "print(f'Activated momentum modes:')\n",
    "print(bins_visited)\n",
    "\n",
    "\n",
    "# g.write(f'# bins visited: {bins_visited}'+'\\n')\n",
    "g.write(f'# Number of basis states with conserved P, E, and flavor content is {n_states:.0f}')\n",
    "g.close()"
   ]
  }
 ],
 "metadata": {
  "kernelspec": {
   "display_name": "INT_env (3.12.3)",
   "language": "python",
   "name": "python3"
  },
  "language_info": {
   "codemirror_mode": {
    "name": "ipython",
    "version": 3
   },
   "file_extension": ".py",
   "mimetype": "text/x-python",
   "name": "python",
   "nbconvert_exporter": "python",
   "pygments_lexer": "ipython3",
   "version": "3.12.3"
  }
 },
 "nbformat": 4,
 "nbformat_minor": 5
}
